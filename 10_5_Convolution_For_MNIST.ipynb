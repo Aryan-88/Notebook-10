{
  "nbformat": 4,
  "nbformat_minor": 0,
  "metadata": {
    "colab": {
      "provenance": [],
      "include_colab_link": true
    },
    "kernelspec": {
      "name": "python3",
      "display_name": "Python 3"
    },
    "language_info": {
      "name": "python"
    }
  },
  "cells": [
    {
      "cell_type": "markdown",
      "metadata": {
        "id": "view-in-github",
        "colab_type": "text"
      },
      "source": [
        "<a href=\"https://colab.research.google.com/github/Aryan-88/Notebook-10/blob/main/10_5_Convolution_For_MNIST.ipynb\" target=\"_parent\"><img src=\"https://colab.research.google.com/assets/colab-badge.svg\" alt=\"Open In Colab\"/></a>"
      ]
    },
    {
      "cell_type": "markdown",
      "source": [
        "# **Notebook 10.5: Convolution for MNIST**\n",
        "\n",
        "This notebook builds a proper network for 2D convolution.  It works with the MNIST dataset (figure 15.15a), which was the original classic dataset for classifying images.  The network will take a 28x28 grayscale image and classify it into one of 10 classes representing a digit.\n",
        "\n",
        "The code is adapted from https://nextjournal.com/gkoehler/pytorch-mnist\n",
        "\n",
        "Work through the cells below, running each cell in turn. In various places you will see the words \"TO DO\". Follow the instructions at these places and make predictions about what is going to happen or write code to complete the functions.\n",
        "\n",
        "Contact me at udlbookmail@gmail.com if you find any mistakes or have any suggestions.\n"
      ],
      "metadata": {
        "id": "t9vk9Elugvmi"
      }
    },
    {
      "cell_type": "code",
      "source": [
        "import torch\n",
        "import torchvision\n",
        "import torch.nn as nn\n",
        "import torch.nn.functional as F\n",
        "import torch.optim as optim\n",
        "import matplotlib.pyplot as plt\n",
        "import random"
      ],
      "metadata": {
        "id": "YrXWAH7sUWvU"
      },
      "execution_count": null,
      "outputs": []
    },
    {
      "cell_type": "code",
      "source": [
        "# Run this once to load the train and test data straight into a dataloader class\n",
        "# that will provide the batches\n",
        "\n",
        "# (It may complain that some files are missing because the files seem to have been\n",
        "# reorganized on the underlying website, but it still seems to work). If everything is working\n",
        "# properly, then the whole notebook should run to the end without further problems\n",
        "# even before you make changes.\n",
        "batch_size_train = 64\n",
        "batch_size_test = 1000\n",
        "\n",
        "# TODO Change this directory to point towards an existing directory\n",
        "myDir = '/content/data'\n",
        "\n",
        "train_loader = torch.utils.data.DataLoader(\n",
        "  torchvision.datasets.MNIST(myDir, train=True, download=True,\n",
        "                             transform=torchvision.transforms.Compose([\n",
        "                               torchvision.transforms.ToTensor(),\n",
        "                               torchvision.transforms.Normalize(\n",
        "                                 (0.1307,), (0.3081,))\n",
        "                             ])),\n",
        "  batch_size=batch_size_train, shuffle=True)\n",
        "\n",
        "test_loader = torch.utils.data.DataLoader(\n",
        "  torchvision.datasets.MNIST(myDir, train=False, download=True,\n",
        "                             transform=torchvision.transforms.Compose([\n",
        "                               torchvision.transforms.ToTensor(),\n",
        "                               torchvision.transforms.Normalize(\n",
        "                                 (0.1307,), (0.3081,))\n",
        "                             ])),\n",
        "  batch_size=batch_size_test, shuffle=True)"
      ],
      "metadata": {
        "id": "wScBGXXFVadm",
        "colab": {
          "base_uri": "https://localhost:8080/"
        },
        "outputId": "26ad0870-5d5e-4f22-91e8-6767fb725c81"
      },
      "execution_count": null,
      "outputs": [
        {
          "output_type": "stream",
          "name": "stdout",
          "text": [
            "Downloading http://yann.lecun.com/exdb/mnist/train-images-idx3-ubyte.gz\n",
            "Failed to download (trying next):\n",
            "<urlopen error [SSL: CERTIFICATE_VERIFY_FAILED] certificate verify failed: certificate has expired (_ssl.c:1007)>\n",
            "\n",
            "Downloading https://ossci-datasets.s3.amazonaws.com/mnist/train-images-idx3-ubyte.gz\n",
            "Downloading https://ossci-datasets.s3.amazonaws.com/mnist/train-images-idx3-ubyte.gz to /content/data/MNIST/raw/train-images-idx3-ubyte.gz\n"
          ]
        },
        {
          "output_type": "stream",
          "name": "stderr",
          "text": [
            "100%|██████████| 9.91M/9.91M [00:00<00:00, 33.4MB/s]\n"
          ]
        },
        {
          "output_type": "stream",
          "name": "stdout",
          "text": [
            "Extracting /content/data/MNIST/raw/train-images-idx3-ubyte.gz to /content/data/MNIST/raw\n",
            "\n",
            "Downloading http://yann.lecun.com/exdb/mnist/train-labels-idx1-ubyte.gz\n",
            "Failed to download (trying next):\n",
            "<urlopen error [SSL: CERTIFICATE_VERIFY_FAILED] certificate verify failed: certificate has expired (_ssl.c:1007)>\n",
            "\n",
            "Downloading https://ossci-datasets.s3.amazonaws.com/mnist/train-labels-idx1-ubyte.gz\n",
            "Downloading https://ossci-datasets.s3.amazonaws.com/mnist/train-labels-idx1-ubyte.gz to /content/data/MNIST/raw/train-labels-idx1-ubyte.gz\n"
          ]
        },
        {
          "output_type": "stream",
          "name": "stderr",
          "text": [
            "100%|██████████| 28.9k/28.9k [00:00<00:00, 1.81MB/s]"
          ]
        },
        {
          "output_type": "stream",
          "name": "stdout",
          "text": [
            "Extracting /content/data/MNIST/raw/train-labels-idx1-ubyte.gz to /content/data/MNIST/raw\n",
            "\n",
            "Downloading http://yann.lecun.com/exdb/mnist/t10k-images-idx3-ubyte.gz\n"
          ]
        },
        {
          "output_type": "stream",
          "name": "stderr",
          "text": [
            "\n"
          ]
        },
        {
          "output_type": "stream",
          "name": "stdout",
          "text": [
            "Failed to download (trying next):\n",
            "<urlopen error [SSL: CERTIFICATE_VERIFY_FAILED] certificate verify failed: certificate has expired (_ssl.c:1007)>\n",
            "\n",
            "Downloading https://ossci-datasets.s3.amazonaws.com/mnist/t10k-images-idx3-ubyte.gz\n",
            "Downloading https://ossci-datasets.s3.amazonaws.com/mnist/t10k-images-idx3-ubyte.gz to /content/data/MNIST/raw/t10k-images-idx3-ubyte.gz\n"
          ]
        },
        {
          "output_type": "stream",
          "name": "stderr",
          "text": [
            "100%|██████████| 1.65M/1.65M [00:00<00:00, 9.61MB/s]\n"
          ]
        },
        {
          "output_type": "stream",
          "name": "stdout",
          "text": [
            "Extracting /content/data/MNIST/raw/t10k-images-idx3-ubyte.gz to /content/data/MNIST/raw\n",
            "\n",
            "Downloading http://yann.lecun.com/exdb/mnist/t10k-labels-idx1-ubyte.gz\n",
            "Failed to download (trying next):\n",
            "<urlopen error [SSL: CERTIFICATE_VERIFY_FAILED] certificate verify failed: certificate has expired (_ssl.c:1007)>\n",
            "\n",
            "Downloading https://ossci-datasets.s3.amazonaws.com/mnist/t10k-labels-idx1-ubyte.gz\n",
            "Downloading https://ossci-datasets.s3.amazonaws.com/mnist/t10k-labels-idx1-ubyte.gz to /content/data/MNIST/raw/t10k-labels-idx1-ubyte.gz\n"
          ]
        },
        {
          "output_type": "stream",
          "name": "stderr",
          "text": [
            "100%|██████████| 4.54k/4.54k [00:00<00:00, 7.29MB/s]"
          ]
        },
        {
          "output_type": "stream",
          "name": "stdout",
          "text": [
            "Extracting /content/data/MNIST/raw/t10k-labels-idx1-ubyte.gz to /content/data/MNIST/raw\n",
            "\n"
          ]
        },
        {
          "output_type": "stream",
          "name": "stderr",
          "text": [
            "\n"
          ]
        }
      ]
    },
    {
      "cell_type": "code",
      "source": [
        "# Let's draw some of the training data\n",
        "examples = enumerate(test_loader)\n",
        "batch_idx, (example_data, example_targets) = next(examples)\n",
        "\n",
        "fig = plt.figure()\n",
        "for i in range(6):\n",
        "  plt.subplot(2,3,i+1)\n",
        "  plt.tight_layout()\n",
        "  plt.imshow(example_data[i][0], cmap='gray', interpolation='none')\n",
        "  plt.title(\"Ground Truth: {}\".format(example_targets[i]))\n",
        "  plt.xticks([])\n",
        "  plt.yticks([])\n",
        "plt.show()"
      ],
      "metadata": {
        "id": "8bKADvLHbiV5",
        "colab": {
          "base_uri": "https://localhost:8080/",
          "height": 438
        },
        "outputId": "6bac7f46-13d8-426d-edb1-53004238db25"
      },
      "execution_count": null,
      "outputs": [
        {
          "output_type": "display_data",
          "data": {
            "text/plain": [
              "<Figure size 640x480 with 6 Axes>"
            ],
            "image/png": "[encoded data removed]"
          },
          "metadata": {}
        }
      ]
    },
    {
      "cell_type": "markdown",
      "source": [
        "Define the network.  This is a more typical way to define a network than the sequential structure.  We define a class for the network, and define the parameters in the constructor.  Then we use a function called forward to actually run the network.  It's easy to see how you might use residual connections in this format."
      ],
      "metadata": {
        "id": "_sFvRDGrl4qe"
      }
    },
    {
      "cell_type": "code",
      "source": [
        "from os import X_OK\n",
        "# TODO Change this class to implement\n",
        "# 1. A valid convolution with kernel size 5, 1 input channel and 10 output channels\n",
        "# 2. A max pooling operation over a 2x2 area\n",
        "# 3. A Relu\n",
        "# 4. A valid convolution with kernel size 5, 10 input channels and 20 output channels\n",
        "# 5. A 2D Dropout layer\n",
        "# 6. A max pooling operation over a 2x2 area\n",
        "# 7. A relu\n",
        "# 8. A flattening operation\n",
        "# 9. A fully connected layer mapping from (whatever dimensions we are at-- find out using .shape) to 50\n",
        "# 10. A ReLU\n",
        "# 11. A fully connected layer mapping from 50 to 10 dimensions\n",
        "# 12. A softmax function.\n",
        "\n",
        "# Replace this class which implements a minimal network (which still does okay)\n",
        "class Net(nn.Module):\n",
        "    def __init__(self):\n",
        "        super(Net, self).__init__()\n",
        "        self.conv1 = nn.Conv2d(1, 10, kernel_size=5)\n",
        "        self.conv2 = nn.Conv2d(10, 20, kernel_size=5)\n",
        "        self.fc1 = nn.Linear(320, 50)\n",
        "        self.fc2 = nn.Linear(50, 10)\n",
        "\n",
        "    def forward(self, x):\n",
        "        x = F.relu(F.max_pool2d(self.conv1(x), 2))\n",
        "        x = F.relu(F.max_pool2d(self.conv2(x), 2))\n",
        "        # Apply dropout during training only\n",
        "        x = F.dropout(x, training=self.training)\n",
        "        x = x.view(-1, 320)\n",
        "        x = F.relu(self.fc1(x))\n",
        "        x = self.fc2(x)\n",
        "        return F.log_softmax(x)\n",
        "\n",
        "\n",
        "\n",
        "\n"
      ],
      "metadata": {
        "id": "EQkvw2KOPVl7"
      },
      "execution_count": null,
      "outputs": []
    },
    {
      "cell_type": "code",
      "source": [
        "# He initialization of weights\n",
        "def weights_init(layer_in):\n",
        "  if isinstance(layer_in, nn.Linear):\n",
        "    nn.init.kaiming_uniform_(layer_in.weight)\n",
        "    layer_in.bias.data.fill_(0.0)"
      ],
      "metadata": {
        "id": "qWZtkCZcU_dg"
      },
      "execution_count": null,
      "outputs": []
    },
    {
      "cell_type": "code",
      "source": [
        "# Create network\n",
        "model = Net()\n",
        "# Initialize model weights\n",
        "model.apply(weights_init)\n",
        "# Define optimizer\n",
        "optimizer = optim.SGD(model.parameters(), lr=0.01, momentum=0.5)"
      ],
      "metadata": {
        "id": "FslroPJJffrh"
      },
      "execution_count": null,
      "outputs": []
    },
    {
      "cell_type": "code",
      "source": [
        "# Main training routine\n",
        "def train(epoch):\n",
        "  model.train()\n",
        "  # Get each\n",
        "  for batch_idx, (data, target) in enumerate(train_loader):\n",
        "    optimizer.zero_grad()\n",
        "    output = model(data)\n",
        "    loss = F.nll_loss(output, target)\n",
        "    loss.backward()\n",
        "    optimizer.step()\n",
        "    # Store results\n",
        "    if batch_idx % 10 == 0:\n",
        "      print('Train Epoch: {} [{}/{}]\\tLoss: {:.6f}'.format(\n",
        "        epoch, batch_idx * len(data), len(train_loader.dataset), loss.item()))"
      ],
      "metadata": {
        "id": "xKQd9PzkQ766"
      },
      "execution_count": null,
      "outputs": []
    },
    {
      "cell_type": "code",
      "source": [
        "# Run on test data\n",
        "def test():\n",
        "  model.eval()\n",
        "  test_loss = 0\n",
        "  correct = 0\n",
        "  with torch.no_grad():\n",
        "    for data, target in test_loader:\n",
        "      output = model(data)\n",
        "      test_loss += F.nll_loss(output, target, size_average=False).item()\n",
        "      pred = output.data.max(1, keepdim=True)[1]\n",
        "      correct += pred.eq(target.data.view_as(pred)).sum()\n",
        "  test_loss /= len(test_loader.dataset)\n",
        "  print('\\nTest set: Avg. loss: {:.4f}, Accuracy: {}/{} ({:.0f}%)\\n'.format(\n",
        "    test_loss, correct, len(test_loader.dataset),\n",
        "    100. * correct / len(test_loader.dataset)))"
      ],
      "metadata": {
        "id": "Byn-f7qWRLxX"
      },
      "execution_count": null,
      "outputs": []
    },
    {
      "cell_type": "code",
      "source": [
        "# Get initial performance\n",
        "test()\n",
        "# Train for three epochs\n",
        "n_epochs = 3\n",
        "for epoch in range(1, n_epochs + 1):\n",
        "  train(epoch)\n",
        "  test()"
      ],
      "metadata": {
        "id": "YgLaex1pfhqz",
        "colab": {
          "base_uri": "https://localhost:8080/"
        },
        "outputId": "a184c86e-d1c4-4402-e924-b3c6ab2086a0"
      },
      "execution_count": null,
      "outputs": [
        {
          "output_type": "stream",
          "name": "stderr",
          "text": [
            "<ipython-input-4-b705c36c86c6>:33: UserWarning: Implicit dimension choice for log_softmax has been deprecated. Change the call to include dim=X as an argument.\n",
            "  return F.log_softmax(x)\n",
            "/usr/local/lib/python3.10/dist-packages/torch/nn/_reduction.py:51: UserWarning: size_average and reduce args will be deprecated, please use reduction='sum' instead.\n",
            "  warnings.warn(warning.format(ret))\n"
          ]
        },
        {
          "output_type": "stream",
          "name": "stdout",
          "text": [
            "\n",
            "Test set: Avg. loss: 2.5193, Accuracy: 1021/10000 (10%)\n",
            "\n",
            "Train Epoch: 1 [0/60000]\tLoss: 2.777000\n",
            "Train Epoch: 1 [640/60000]\tLoss: 2.156522\n",
            "Train Epoch: 1 [1280/60000]\tLoss: 2.028341\n",
            "Train Epoch: 1 [1920/60000]\tLoss: 1.911377\n",
            "Train Epoch: 1 [2560/60000]\tLoss: 1.738018\n",
            "Train Epoch: 1 [3200/60000]\tLoss: 1.562171\n",
            "Train Epoch: 1 [3840/60000]\tLoss: 1.384380\n",
            "Train Epoch: 1 [4480/60000]\tLoss: 1.201065\n",
            "Train Epoch: 1 [5120/60000]\tLoss: 1.106489\n",
            "Train Epoch: 1 [5760/60000]\tLoss: 0.789401\n",
            "Train Epoch: 1 [6400/60000]\tLoss: 0.930476\n",
            "Train Epoch: 1 [7040/60000]\tLoss: 0.947358\n",
            "Train Epoch: 1 [7680/60000]\tLoss: 0.784953\n",
            "Train Epoch: 1 [8320/60000]\tLoss: 0.761301\n",
            "Train Epoch: 1 [8960/60000]\tLoss: 0.530877\n",
            "Train Epoch: 1 [9600/60000]\tLoss: 0.768180\n",
            "Train Epoch: 1 [10240/60000]\tLoss: 0.687147\n",
            "Train Epoch: 1 [10880/60000]\tLoss: 0.406629\n",
            "Train Epoch: 1 [11520/60000]\tLoss: 0.829391\n",
            "Train Epoch: 1 [12160/60000]\tLoss: 0.674637\n",
            "Train Epoch: 1 [12800/60000]\tLoss: 0.630814\n",
            "Train Epoch: 1 [13440/60000]\tLoss: 0.329117\n",
            "Train Epoch: 1 [14080/60000]\tLoss: 0.583792\n",
            "Train Epoch: 1 [14720/60000]\tLoss: 0.676109\n",
            "Train Epoch: 1 [15360/60000]\tLoss: 0.321095\n",
            "Train Epoch: 1 [16000/60000]\tLoss: 0.566379\n",
            "Train Epoch: 1 [16640/60000]\tLoss: 0.449289\n",
            "Train Epoch: 1 [17280/60000]\tLoss: 0.504516\n",
            "Train Epoch: 1 [17920/60000]\tLoss: 0.375566\n",
            "Train Epoch: 1 [18560/60000]\tLoss: 0.342388\n",
            "Train Epoch: 1 [19200/60000]\tLoss: 0.359939\n",
            "Train Epoch: 1 [19840/60000]\tLoss: 0.364558\n",
            "Train Epoch: 1 [20480/60000]\tLoss: 0.594681\n",
            "Train Epoch: 1 [21120/60000]\tLoss: 0.392761\n",
            "Train Epoch: 1 [21760/60000]\tLoss: 0.331016\n",
            "Train Epoch: 1 [22400/60000]\tLoss: 0.424218\n",
            "Train Epoch: 1 [23040/60000]\tLoss: 0.340077\n",
            "Train Epoch: 1 [23680/60000]\tLoss: 0.205064\n",
            "Train Epoch: 1 [24320/60000]\tLoss: 0.465480\n",
            "Train Epoch: 1 [24960/60000]\tLoss: 0.565483\n",
            "Train Epoch: 1 [25600/60000]\tLoss: 0.503811\n",
            "Train Epoch: 1 [26240/60000]\tLoss: 0.300245\n",
            "Train Epoch: 1 [26880/60000]\tLoss: 0.616701\n",
            "Train Epoch: 1 [27520/60000]\tLoss: 0.244727\n",
            "Train Epoch: 1 [28160/60000]\tLoss: 0.359139\n",
            "Train Epoch: 1 [28800/60000]\tLoss: 0.365612\n",
            "Train Epoch: 1 [29440/60000]\tLoss: 0.336774\n",
            "Train Epoch: 1 [30080/60000]\tLoss: 0.421975\n",
            "Train Epoch: 1 [30720/60000]\tLoss: 0.284898\n",
            "Train Epoch: 1 [31360/60000]\tLoss: 0.280469\n",
            "Train Epoch: 1 [32000/60000]\tLoss: 0.454720\n",
            "Train Epoch: 1 [32640/60000]\tLoss: 0.424893\n",
            "Train Epoch: 1 [33280/60000]\tLoss: 0.312294\n",
            "Train Epoch: 1 [33920/60000]\tLoss: 0.232909\n",
            "Train Epoch: 1 [34560/60000]\tLoss: 0.536358\n",
            "Train Epoch: 1 [35200/60000]\tLoss: 0.256037\n",
            "Train Epoch: 1 [35840/60000]\tLoss: 0.388355\n",
            "Train Epoch: 1 [36480/60000]\tLoss: 0.273788\n",
            "Train Epoch: 1 [37120/60000]\tLoss: 0.433802\n",
            "Train Epoch: 1 [37760/60000]\tLoss: 0.255083\n",
            "Train Epoch: 1 [38400/60000]\tLoss: 0.158846\n",
            "Train Epoch: 1 [39040/60000]\tLoss: 0.230906\n",
            "Train Epoch: 1 [39680/60000]\tLoss: 0.274873\n",
            "Train Epoch: 1 [40320/60000]\tLoss: 0.239694\n",
            "Train Epoch: 1 [40960/60000]\tLoss: 0.150560\n",
            "Train Epoch: 1 [41600/60000]\tLoss: 0.274083\n",
            "Train Epoch: 1 [42240/60000]\tLoss: 0.358366\n",
            "Train Epoch: 1 [42880/60000]\tLoss: 0.377116\n",
            "Train Epoch: 1 [43520/60000]\tLoss: 0.215951\n",
            "Train Epoch: 1 [44160/60000]\tLoss: 0.162956\n",
            "Train Epoch: 1 [44800/60000]\tLoss: 0.413296\n",
            "Train Epoch: 1 [45440/60000]\tLoss: 0.374143\n",
            "Train Epoch: 1 [46080/60000]\tLoss: 0.271310\n",
            "Train Epoch: 1 [46720/60000]\tLoss: 0.309226\n",
            "Train Epoch: 1 [47360/60000]\tLoss: 0.557461\n",
            "Train Epoch: 1 [48000/60000]\tLoss: 0.269988\n",
            "Train Epoch: 1 [48640/60000]\tLoss: 0.404147\n",
            "Train Epoch: 1 [49280/60000]\tLoss: 0.448003\n",
            "Train Epoch: 1 [49920/60000]\tLoss: 0.433251\n",
            "Train Epoch: 1 [50560/60000]\tLoss: 0.264548\n",
            "Train Epoch: 1 [51200/60000]\tLoss: 0.207704\n",
            "Train Epoch: 1 [51840/60000]\tLoss: 0.202402\n",
            "Train Epoch: 1 [52480/60000]\tLoss: 0.240612\n",
            "Train Epoch: 1 [53120/60000]\tLoss: 0.282863\n",
            "Train Epoch: 1 [53760/60000]\tLoss: 0.148338\n",
            "Train Epoch: 1 [54400/60000]\tLoss: 0.180663\n",
            "Train Epoch: 1 [55040/60000]\tLoss: 0.100949\n",
            "Train Epoch: 1 [55680/60000]\tLoss: 0.340736\n",
            "Train Epoch: 1 [56320/60000]\tLoss: 0.422802\n",
            "Train Epoch: 1 [56960/60000]\tLoss: 0.269540\n",
            "Train Epoch: 1 [57600/60000]\tLoss: 0.130046\n",
            "Train Epoch: 1 [58240/60000]\tLoss: 0.156866\n",
            "Train Epoch: 1 [58880/60000]\tLoss: 0.380681\n",
            "Train Epoch: 1 [59520/60000]\tLoss: 0.193387\n",
            "\n",
            "Test set: Avg. loss: 0.1231, Accuracy: 9627/10000 (96%)\n",
            "\n",
            "Train Epoch: 2 [0/60000]\tLoss: 0.142169\n",
            "Train Epoch: 2 [640/60000]\tLoss: 0.135000\n",
            "Train Epoch: 2 [1280/60000]\tLoss: 0.129708\n",
            "Train Epoch: 2 [1920/60000]\tLoss: 0.204946\n",
            "Train Epoch: 2 [2560/60000]\tLoss: 0.131098\n",
            "Train Epoch: 2 [3200/60000]\tLoss: 0.224792\n",
            "Train Epoch: 2 [3840/60000]\tLoss: 0.240588\n",
            "Train Epoch: 2 [4480/60000]\tLoss: 0.222148\n",
            "Train Epoch: 2 [5120/60000]\tLoss: 0.341659\n",
            "Train Epoch: 2 [5760/60000]\tLoss: 0.310049\n",
            "Train Epoch: 2 [6400/60000]\tLoss: 0.174562\n",
            "Train Epoch: 2 [7040/60000]\tLoss: 0.162252\n",
            "Train Epoch: 2 [7680/60000]\tLoss: 0.137067\n",
            "Train Epoch: 2 [8320/60000]\tLoss: 0.392306\n",
            "Train Epoch: 2 [8960/60000]\tLoss: 0.155081\n",
            "Train Epoch: 2 [9600/60000]\tLoss: 0.382124\n",
            "Train Epoch: 2 [10240/60000]\tLoss: 0.253661\n",
            "Train Epoch: 2 [10880/60000]\tLoss: 0.345100\n",
            "Train Epoch: 2 [11520/60000]\tLoss: 0.145413\n",
            "Train Epoch: 2 [12160/60000]\tLoss: 0.286955\n",
            "Train Epoch: 2 [12800/60000]\tLoss: 0.354834\n",
            "Train Epoch: 2 [13440/60000]\tLoss: 0.225408\n",
            "Train Epoch: 2 [14080/60000]\tLoss: 0.267957\n",
            "Train Epoch: 2 [14720/60000]\tLoss: 0.234521\n",
            "Train Epoch: 2 [15360/60000]\tLoss: 0.147569\n",
            "Train Epoch: 2 [16000/60000]\tLoss: 0.585015\n",
            "Train Epoch: 2 [16640/60000]\tLoss: 0.139397\n",
            "Train Epoch: 2 [17280/60000]\tLoss: 0.267869\n",
            "Train Epoch: 2 [17920/60000]\tLoss: 0.337736\n",
            "Train Epoch: 2 [18560/60000]\tLoss: 0.290707\n",
            "Train Epoch: 2 [19200/60000]\tLoss: 0.372566\n",
            "Train Epoch: 2 [19840/60000]\tLoss: 0.218983\n",
            "Train Epoch: 2 [20480/60000]\tLoss: 0.103693\n",
            "Train Epoch: 2 [21120/60000]\tLoss: 0.355938\n",
            "Train Epoch: 2 [21760/60000]\tLoss: 0.207205\n",
            "Train Epoch: 2 [22400/60000]\tLoss: 0.312257\n",
            "Train Epoch: 2 [23040/60000]\tLoss: 0.300190\n",
            "Train Epoch: 2 [23680/60000]\tLoss: 0.200344\n",
            "Train Epoch: 2 [24320/60000]\tLoss: 0.160814\n",
            "Train Epoch: 2 [24960/60000]\tLoss: 0.185173\n",
            "Train Epoch: 2 [25600/60000]\tLoss: 0.184847\n",
            "Train Epoch: 2 [26240/60000]\tLoss: 0.288687\n",
            "Train Epoch: 2 [26880/60000]\tLoss: 0.237853\n",
            "Train Epoch: 2 [27520/60000]\tLoss: 0.053723\n",
            "Train Epoch: 2 [28160/60000]\tLoss: 0.326564\n",
            "Train Epoch: 2 [28800/60000]\tLoss: 0.232361\n",
            "Train Epoch: 2 [29440/60000]\tLoss: 0.367670\n",
            "Train Epoch: 2 [30080/60000]\tLoss: 0.221673\n",
            "Train Epoch: 2 [30720/60000]\tLoss: 0.378757\n",
            "Train Epoch: 2 [31360/60000]\tLoss: 0.183379\n",
            "Train Epoch: 2 [32000/60000]\tLoss: 0.390379\n",
            "Train Epoch: 2 [32640/60000]\tLoss: 0.076241\n",
            "Train Epoch: 2 [33280/60000]\tLoss: 0.111698\n",
            "Train Epoch: 2 [33920/60000]\tLoss: 0.067388\n",
            "Train Epoch: 2 [34560/60000]\tLoss: 0.121807\n",
            "Train Epoch: 2 [35200/60000]\tLoss: 0.119783\n",
            "Train Epoch: 2 [35840/60000]\tLoss: 0.172035\n",
            "Train Epoch: 2 [36480/60000]\tLoss: 0.229749\n",
            "Train Epoch: 2 [37120/60000]\tLoss: 0.084621\n",
            "Train Epoch: 2 [37760/60000]\tLoss: 0.221266\n",
            "Train Epoch: 2 [38400/60000]\tLoss: 0.058043\n",
            "Train Epoch: 2 [39040/60000]\tLoss: 0.381179\n",
            "Train Epoch: 2 [39680/60000]\tLoss: 0.270157\n",
            "Train Epoch: 2 [40320/60000]\tLoss: 0.165506\n",
            "Train Epoch: 2 [40960/60000]\tLoss: 0.307384\n",
            "Train Epoch: 2 [41600/60000]\tLoss: 0.180789\n",
            "Train Epoch: 2 [42240/60000]\tLoss: 0.162781\n",
            "Train Epoch: 2 [42880/60000]\tLoss: 0.103727\n",
            "Train Epoch: 2 [43520/60000]\tLoss: 0.124576\n",
            "Train Epoch: 2 [44160/60000]\tLoss: 0.221495\n",
            "Train Epoch: 2 [44800/60000]\tLoss: 0.374901\n",
            "Train Epoch: 2 [45440/60000]\tLoss: 0.282907\n",
            "Train Epoch: 2 [46080/60000]\tLoss: 0.109023\n",
            "Train Epoch: 2 [46720/60000]\tLoss: 0.193797\n",
            "Train Epoch: 2 [47360/60000]\tLoss: 0.201683\n",
            "Train Epoch: 2 [48000/60000]\tLoss: 0.276826\n",
            "Train Epoch: 2 [48640/60000]\tLoss: 0.135051\n",
            "Train Epoch: 2 [49280/60000]\tLoss: 0.046593\n",
            "Train Epoch: 2 [49920/60000]\tLoss: 0.122999\n",
            "Train Epoch: 2 [50560/60000]\tLoss: 0.320094\n",
            "Train Epoch: 2 [51200/60000]\tLoss: 0.274700\n",
            "Train Epoch: 2 [51840/60000]\tLoss: 0.310555\n",
            "Train Epoch: 2 [52480/60000]\tLoss: 0.346381\n",
            "Train Epoch: 2 [53120/60000]\tLoss: 0.145120\n",
            "Train Epoch: 2 [53760/60000]\tLoss: 0.117216\n",
            "Train Epoch: 2 [54400/60000]\tLoss: 0.212941\n",
            "Train Epoch: 2 [55040/60000]\tLoss: 0.109906\n",
            "Train Epoch: 2 [55680/60000]\tLoss: 0.191389\n",
            "Train Epoch: 2 [56320/60000]\tLoss: 0.202802\n",
            "Train Epoch: 2 [56960/60000]\tLoss: 0.138492\n",
            "Train Epoch: 2 [57600/60000]\tLoss: 0.150502\n",
            "Train Epoch: 2 [58240/60000]\tLoss: 0.143821\n",
            "Train Epoch: 2 [58880/60000]\tLoss: 0.294358\n",
            "Train Epoch: 2 [59520/60000]\tLoss: 0.154260\n",
            "\n",
            "Test set: Avg. loss: 0.0884, Accuracy: 9723/10000 (97%)\n",
            "\n",
            "Train Epoch: 3 [0/60000]\tLoss: 0.184372\n",
            "Train Epoch: 3 [640/60000]\tLoss: 0.108724\n",
            "Train Epoch: 3 [1280/60000]\tLoss: 0.186682\n",
            "Train Epoch: 3 [1920/60000]\tLoss: 0.118504\n",
            "Train Epoch: 3 [2560/60000]\tLoss: 0.094854\n",
            "Train Epoch: 3 [3200/60000]\tLoss: 0.075289\n",
            "Train Epoch: 3 [3840/60000]\tLoss: 0.053858\n",
            "Train Epoch: 3 [4480/60000]\tLoss: 0.263296\n",
            "Train Epoch: 3 [5120/60000]\tLoss: 0.163196\n",
            "Train Epoch: 3 [5760/60000]\tLoss: 0.182956\n",
            "Train Epoch: 3 [6400/60000]\tLoss: 0.484173\n",
            "Train Epoch: 3 [7040/60000]\tLoss: 0.175671\n",
            "Train Epoch: 3 [7680/60000]\tLoss: 0.120516\n",
            "Train Epoch: 3 [8320/60000]\tLoss: 0.265064\n",
            "Train Epoch: 3 [8960/60000]\tLoss: 0.123518\n",
            "Train Epoch: 3 [9600/60000]\tLoss: 0.071138\n",
            "Train Epoch: 3 [10240/60000]\tLoss: 0.268779\n",
            "Train Epoch: 3 [10880/60000]\tLoss: 0.252745\n",
            "Train Epoch: 3 [11520/60000]\tLoss: 0.082826\n",
            "Train Epoch: 3 [12160/60000]\tLoss: 0.300498\n",
            "Train Epoch: 3 [12800/60000]\tLoss: 0.272174\n",
            "Train Epoch: 3 [13440/60000]\tLoss: 0.137589\n",
            "Train Epoch: 3 [14080/60000]\tLoss: 0.145704\n",
            "Train Epoch: 3 [14720/60000]\tLoss: 0.086819\n",
            "Train Epoch: 3 [15360/60000]\tLoss: 0.333080\n",
            "Train Epoch: 3 [16000/60000]\tLoss: 0.278728\n",
            "Train Epoch: 3 [16640/60000]\tLoss: 0.213949\n",
            "Train Epoch: 3 [17280/60000]\tLoss: 0.103132\n",
            "Train Epoch: 3 [17920/60000]\tLoss: 0.061926\n",
            "Train Epoch: 3 [18560/60000]\tLoss: 0.084625\n",
            "Train Epoch: 3 [19200/60000]\tLoss: 0.198216\n",
            "Train Epoch: 3 [19840/60000]\tLoss: 0.172886\n",
            "Train Epoch: 3 [20480/60000]\tLoss: 0.076074\n",
            "Train Epoch: 3 [21120/60000]\tLoss: 0.193879\n",
            "Train Epoch: 3 [21760/60000]\tLoss: 0.183257\n",
            "Train Epoch: 3 [22400/60000]\tLoss: 0.196147\n",
            "Train Epoch: 3 [23040/60000]\tLoss: 0.155646\n",
            "Train Epoch: 3 [23680/60000]\tLoss: 0.044671\n",
            "Train Epoch: 3 [24320/60000]\tLoss: 0.194166\n",
            "Train Epoch: 3 [24960/60000]\tLoss: 0.284382\n",
            "Train Epoch: 3 [25600/60000]\tLoss: 0.071359\n",
            "Train Epoch: 3 [26240/60000]\tLoss: 0.118537\n",
            "Train Epoch: 3 [26880/60000]\tLoss: 0.270103\n",
            "Train Epoch: 3 [27520/60000]\tLoss: 0.165146\n",
            "Train Epoch: 3 [28160/60000]\tLoss: 0.137019\n",
            "Train Epoch: 3 [28800/60000]\tLoss: 0.157537\n",
            "Train Epoch: 3 [29440/60000]\tLoss: 0.098807\n",
            "Train Epoch: 3 [30080/60000]\tLoss: 0.128517\n",
            "Train Epoch: 3 [30720/60000]\tLoss: 0.255709\n",
            "Train Epoch: 3 [31360/60000]\tLoss: 0.177132\n",
            "Train Epoch: 3 [32000/60000]\tLoss: 0.097184\n",
            "Train Epoch: 3 [32640/60000]\tLoss: 0.129853\n",
            "Train Epoch: 3 [33280/60000]\tLoss: 0.091177\n",
            "Train Epoch: 3 [33920/60000]\tLoss: 0.081010\n",
            "Train Epoch: 3 [34560/60000]\tLoss: 0.208321\n",
            "Train Epoch: 3 [35200/60000]\tLoss: 0.165431\n",
            "Train Epoch: 3 [35840/60000]\tLoss: 0.138362\n",
            "Train Epoch: 3 [36480/60000]\tLoss: 0.113052\n",
            "Train Epoch: 3 [37120/60000]\tLoss: 0.215914\n",
            "Train Epoch: 3 [37760/60000]\tLoss: 0.254574\n",
            "Train Epoch: 3 [38400/60000]\tLoss: 0.071784\n",
            "Train Epoch: 3 [39040/60000]\tLoss: 0.160632\n",
            "Train Epoch: 3 [39680/60000]\tLoss: 0.072479\n",
            "Train Epoch: 3 [40320/60000]\tLoss: 0.146956\n",
            "Train Epoch: 3 [40960/60000]\tLoss: 0.054613\n",
            "Train Epoch: 3 [41600/60000]\tLoss: 0.180682\n",
            "Train Epoch: 3 [42240/60000]\tLoss: 0.093332\n",
            "Train Epoch: 3 [42880/60000]\tLoss: 0.296019\n",
            "Train Epoch: 3 [43520/60000]\tLoss: 0.071517\n",
            "Train Epoch: 3 [44160/60000]\tLoss: 0.265373\n",
            "Train Epoch: 3 [44800/60000]\tLoss: 0.164388\n",
            "Train Epoch: 3 [45440/60000]\tLoss: 0.174621\n",
            "Train Epoch: 3 [46080/60000]\tLoss: 0.205097\n",
            "Train Epoch: 3 [46720/60000]\tLoss: 0.092930\n",
            "Train Epoch: 3 [47360/60000]\tLoss: 0.126648\n",
            "Train Epoch: 3 [48000/60000]\tLoss: 0.157070\n",
            "Train Epoch: 3 [48640/60000]\tLoss: 0.064378\n",
            "Train Epoch: 3 [49280/60000]\tLoss: 0.082424\n",
            "Train Epoch: 3 [49920/60000]\tLoss: 0.016483\n",
            "Train Epoch: 3 [50560/60000]\tLoss: 0.059098\n",
            "Train Epoch: 3 [51200/60000]\tLoss: 0.102586\n",
            "Train Epoch: 3 [51840/60000]\tLoss: 0.151812\n",
            "Train Epoch: 3 [52480/60000]\tLoss: 0.064696\n",
            "Train Epoch: 3 [53120/60000]\tLoss: 0.227540\n",
            "Train Epoch: 3 [53760/60000]\tLoss: 0.121796\n",
            "Train Epoch: 3 [54400/60000]\tLoss: 0.098775\n",
            "Train Epoch: 3 [55040/60000]\tLoss: 0.222858\n",
            "Train Epoch: 3 [55680/60000]\tLoss: 0.247268\n",
            "Train Epoch: 3 [56320/60000]\tLoss: 0.256192\n",
            "Train Epoch: 3 [56960/60000]\tLoss: 0.122515\n",
            "Train Epoch: 3 [57600/60000]\tLoss: 0.241152\n",
            "Train Epoch: 3 [58240/60000]\tLoss: 0.321093\n",
            "Train Epoch: 3 [58880/60000]\tLoss: 0.110905\n",
            "Train Epoch: 3 [59520/60000]\tLoss: 0.186077\n",
            "\n",
            "Test set: Avg. loss: 0.0651, Accuracy: 9790/10000 (98%)\n",
            "\n"
          ]
        }
      ]
    },
    {
      "cell_type": "code",
      "source": [
        "# Run network on data we got before and show predictions\n",
        "output = model(example_data)\n",
        "\n",
        "fig = plt.figure()\n",
        "for i in range(10):\n",
        "  plt.subplot(5,5,i+1)\n",
        "  plt.tight_layout()\n",
        "  plt.imshow(example_data[i][0], cmap='gray', interpolation='none')\n",
        "  plt.title(\"Prediction: {}\".format(\n",
        "    output.data.max(1, keepdim=True)[1][i].item()))\n",
        "  plt.xticks([])\n",
        "  plt.yticks([])\n",
        "plt.show()"
      ],
      "metadata": {
        "id": "o7fRUAy9Se1B",
        "colab": {
          "base_uri": "https://localhost:8080/",
          "height": 243
        },
        "outputId": "f410372f-a8f2-44c3-ebdd-b3b620609f87"
      },
      "execution_count": null,
      "outputs": [
        {
          "output_type": "stream",
          "name": "stderr",
          "text": [
            "<ipython-input-4-b705c36c86c6>:33: UserWarning: Implicit dimension choice for log_softmax has been deprecated. Change the call to include dim=X as an argument.\n",
            "  return F.log_softmax(x)\n"
          ]
        },
        {
          "output_type": "display_data",
          "data": {
            "text/plain": [
              "<Figure size 640x480 with 10 Axes>"
            ],
            "image/png": "[encoded data removed]"
          },
          "metadata": {}
        }
      ]
    }
  ]
}