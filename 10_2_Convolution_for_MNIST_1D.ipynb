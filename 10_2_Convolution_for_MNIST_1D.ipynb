{
  "nbformat": 4,
  "nbformat_minor": 0,
  "metadata": {
    "colab": {
      "provenance": [],
      "include_colab_link": true
    },
    "kernelspec": {
      "name": "python3",
      "display_name": "Python 3"
    },
    "language_info": {
      "name": "python"
    }
  },
  "cells": [
    {
      "cell_type": "markdown",
      "metadata": {
        "id": "view-in-github",
        "colab_type": "text"
      },
      "source": [
        "<a href=\"https://colab.research.google.com/github/Aryan-88/Notebook-10/blob/main/10_2_Convolution_for_MNIST_1D.ipynb\" target=\"_parent\"><img src=\"https://colab.research.google.com/assets/colab-badge.svg\" alt=\"Open In Colab\"/></a>"
      ]
    },
    {
      "cell_type": "markdown",
      "source": [
        "# **Notebook 10.2: Convolution for MNIST-1D**\n",
        "\n",
        "This notebook investigates a 1D convolutional network for MNIST-1D as in figure 10.7 and 10.8a.\n",
        "\n",
        "Work through the cells below, running each cell in turn. In various places you will see the words \"TO DO\". Follow the instructions at these places and make predictions about what is going to happen or write code to complete the functions.\n",
        "\n",
        "Contact me at udlbookmail@gmail.com if you find any mistakes or have any suggestions.\n",
        "\n"
      ],
      "metadata": {
        "id": "t9vk9Elugvmi"
      }
    },
    {
      "cell_type": "code",
      "source": [
        "# Run this if you're in a Colab to install MNIST 1D repository\n",
        "!pip install git+https://github.com/greydanus/mnist1d"
      ],
      "metadata": {
        "id": "D5yLObtZCi9J",
        "colab": {
          "base_uri": "https://localhost:8080/"
        },
        "outputId": "a531db21-d302-4963-927a-30ba306936f0"
      },
      "execution_count": 1,
      "outputs": [
        {
          "output_type": "stream",
          "name": "stdout",
          "text": [
            "Collecting git+https://github.com/greydanus/mnist1d\n",
            "  Cloning https://github.com/greydanus/mnist1d to /tmp/pip-req-build-539if73t\n",
            "  Running command git clone --filter=blob:none --quiet https://github.com/greydanus/mnist1d /tmp/pip-req-build-539if73t\n",
            "  Resolved https://github.com/greydanus/mnist1d to commit 7878d96082abd200c546a07a4101fa90b30fdf7e\n",
            "  Installing build dependencies ... \u001b[?25l\u001b[?25hdone\n",
            "  Getting requirements to build wheel ... \u001b[?25l\u001b[?25hdone\n",
            "  Preparing metadata (pyproject.toml) ... \u001b[?25l\u001b[?25hdone\n",
            "Requirement already satisfied: requests in /usr/local/lib/python3.10/dist-packages (from mnist1d==0.0.2.post16) (2.32.3)\n",
            "Requirement already satisfied: numpy in /usr/local/lib/python3.10/dist-packages (from mnist1d==0.0.2.post16) (1.26.4)\n",
            "Requirement already satisfied: matplotlib in /usr/local/lib/python3.10/dist-packages (from mnist1d==0.0.2.post16) (3.7.1)\n",
            "Requirement already satisfied: scipy in /usr/local/lib/python3.10/dist-packages (from mnist1d==0.0.2.post16) (1.13.1)\n",
            "Requirement already satisfied: contourpy>=1.0.1 in /usr/local/lib/python3.10/dist-packages (from matplotlib->mnist1d==0.0.2.post16) (1.3.0)\n",
            "Requirement already satisfied: cycler>=0.10 in /usr/local/lib/python3.10/dist-packages (from matplotlib->mnist1d==0.0.2.post16) (0.12.1)\n",
            "Requirement already satisfied: fonttools>=4.22.0 in /usr/local/lib/python3.10/dist-packages (from matplotlib->mnist1d==0.0.2.post16) (4.54.1)\n",
            "Requirement already satisfied: kiwisolver>=1.0.1 in /usr/local/lib/python3.10/dist-packages (from matplotlib->mnist1d==0.0.2.post16) (1.4.7)\n",
            "Requirement already satisfied: packaging>=20.0 in /usr/local/lib/python3.10/dist-packages (from matplotlib->mnist1d==0.0.2.post16) (24.1)\n",
            "Requirement already satisfied: pillow>=6.2.0 in /usr/local/lib/python3.10/dist-packages (from matplotlib->mnist1d==0.0.2.post16) (10.4.0)\n",
            "Requirement already satisfied: pyparsing>=2.3.1 in /usr/local/lib/python3.10/dist-packages (from matplotlib->mnist1d==0.0.2.post16) (3.2.0)\n",
            "Requirement already satisfied: python-dateutil>=2.7 in /usr/local/lib/python3.10/dist-packages (from matplotlib->mnist1d==0.0.2.post16) (2.8.2)\n",
            "Requirement already satisfied: charset-normalizer<4,>=2 in /usr/local/lib/python3.10/dist-packages (from requests->mnist1d==0.0.2.post16) (3.4.0)\n",
            "Requirement already satisfied: idna<4,>=2.5 in /usr/local/lib/python3.10/dist-packages (from requests->mnist1d==0.0.2.post16) (3.10)\n",
            "Requirement already satisfied: urllib3<3,>=1.21.1 in /usr/local/lib/python3.10/dist-packages (from requests->mnist1d==0.0.2.post16) (2.2.3)\n",
            "Requirement already satisfied: certifi>=2017.4.17 in /usr/local/lib/python3.10/dist-packages (from requests->mnist1d==0.0.2.post16) (2024.8.30)\n",
            "Requirement already satisfied: six>=1.5 in /usr/local/lib/python3.10/dist-packages (from python-dateutil>=2.7->matplotlib->mnist1d==0.0.2.post16) (1.16.0)\n",
            "Building wheels for collected packages: mnist1d\n",
            "  Building wheel for mnist1d (pyproject.toml) ... \u001b[?25l\u001b[?25hdone\n",
            "  Created wheel for mnist1d: filename=mnist1d-0.0.2.post16-py3-none-any.whl size=14624 sha256=a4e8c0534dc35c43a05856dc93de2ce8f36c4ecb34ad8fe0a0b5376e723e3d8a\n",
            "  Stored in directory: /tmp/pip-ephem-wheel-cache-7qzc34re/wheels/41/95/55/45fcf7d38cfa97e35682da6c5017d4513729131326ce935371\n",
            "Successfully built mnist1d\n",
            "Installing collected packages: mnist1d\n",
            "Successfully installed mnist1d-0.0.2.post16\n"
          ]
        }
      ]
    },
    {
      "cell_type": "code",
      "source": [
        "import numpy as np\n",
        "import os\n",
        "import torch, torch.nn as nn\n",
        "from torch.utils.data import TensorDataset, DataLoader\n",
        "from torch.optim.lr_scheduler import StepLR\n",
        "import matplotlib.pyplot as plt\n",
        "import mnist1d\n",
        "import random"
      ],
      "metadata": {
        "id": "YrXWAH7sUWvU"
      },
      "execution_count": 2,
      "outputs": []
    },
    {
      "cell_type": "code",
      "source": [
        "args = mnist1d.data.get_dataset_args()\n",
        "data = mnist1d.data.get_dataset(args, path='./mnist1d_data.pkl', download=False, regenerate=False)\n",
        "\n",
        "# The training and test input and outputs are in\n",
        "# data['x'], data['y'], data['x_test'], and data['y_test']\n",
        "print(\"Examples in training set: {}\".format(len(data['y'])))\n",
        "print(\"Examples in test set: {}\".format(len(data['y_test'])))\n",
        "print(\"Length of each example: {}\".format(data['x'].shape[-1]))"
      ],
      "metadata": {
        "id": "twI72ZCrCt5z",
        "colab": {
          "base_uri": "https://localhost:8080/"
        },
        "outputId": "05630026-aa42-41ec-a3f1-11e3181d53db"
      },
      "execution_count": 3,
      "outputs": [
        {
          "output_type": "stream",
          "name": "stdout",
          "text": [
            "Did or could not load data from ./mnist1d_data.pkl. Rebuilding dataset...\n",
            "Examples in training set: 4000\n",
            "Examples in test set: 1000\n",
            "Length of each example: 40\n"
          ]
        }
      ]
    },
    {
      "cell_type": "code",
      "source": [
        "# Load in the data\n",
        "train_data_x = data['x'].transpose()\n",
        "train_data_y = data['y']\n",
        "val_data_x = data['x_test'].transpose()\n",
        "val_data_y = data['y_test']\n",
        "# Print out sizes\n",
        "print(\"Train data: %d examples (columns), each of which has %d dimensions (rows)\"%((train_data_x.shape[1],train_data_x.shape[0])))\n",
        "print(\"Validation data: %d examples (columns), each of which has %d dimensions (rows)\"%((val_data_x.shape[1],val_data_x.shape[0])))"
      ],
      "metadata": {
        "id": "8bKADvLHbiV5",
        "colab": {
          "base_uri": "https://localhost:8080/"
        },
        "outputId": "68d1e0ec-8eff-4664-d993-38546f2b6423"
      },
      "execution_count": 4,
      "outputs": [
        {
          "output_type": "stream",
          "name": "stdout",
          "text": [
            "Train data: 4000 examples (columns), each of which has 40 dimensions (rows)\n",
            "Validation data: 1000 examples (columns), each of which has 40 dimensions (rows)\n"
          ]
        }
      ]
    },
    {
      "cell_type": "markdown",
      "source": [
        "Define the network"
      ],
      "metadata": {
        "id": "_sFvRDGrl4qe"
      }
    },
    {
      "cell_type": "code",
      "source": [
        "# There are 40 input dimensions and 10 output dimensions for this data\n",
        "# The inputs correspond to the 40 offsets in the MNIST1D template.\n",
        "D_i = 40\n",
        "# The outputs correspond to the 10 digits\n",
        "D_o = 10\n",
        "\n",
        "\n",
        "# TODO Create a model with the following layers\n",
        "# 1. Convolutional layer, (input=length 40 and 1 channel, kernel size 3, stride 2, padding=\"valid\", 15 output channels )\n",
        "# 2. ReLU\n",
        "# 3. Convolutional layer, (input=length 19 and 15 channels, kernel size 3, stride 2, padding=\"valid\", 15 output channels )\n",
        "# 4. ReLU\n",
        "# 5. Convolutional layer, (input=length 9 and 15 channels, kernel size 3, stride 2, padding=\"valid\", 15 output channels)\n",
        "# 6. ReLU\n",
        "# 7. Flatten (converts 4x15) to length 60\n",
        "# 8. Linear layer (input size = 60, output size = 10)\n",
        "# References:\n",
        "# https://pytorch.org/docs/1.13/generated/torch.nn.Conv1d.html?highlight=conv1d#torch.nn.Conv1d\n",
        "# https://pytorch.org/docs/stable/generated/torch.nn.Flatten.html\n",
        "# https://pytorch.org/docs/1.13/generated/torch.nn.Linear.html?highlight=linear#torch.nn.Linear\n",
        "\n",
        "# NOTE THAT THE CONVOLUTIONAL LAYERS NEED TO TAKE THE NUMBER OF INPUT CHANNELS AS A PARAMETER\n",
        "# AND NOT THE INPUT SIZE.\n",
        "\n",
        "# Replace the following function:\n",
        "model = nn.Sequential(\n",
        "    nn.Conv1d(1, 15, kernel_size=3, stride=2, padding=\"valid\"),\n",
        "    nn.ReLU(),\n",
        "    nn.Conv1d(15, 15, kernel_size=3, stride=2, padding=\"valid\"),\n",
        "    nn.ReLU(),\n",
        "    nn.Conv1d(15, 15, kernel_size=3, stride=2, padding=\"valid\"),\n",
        "    nn.ReLU(),\n",
        "    nn.Flatten(),\n",
        "    nn.Linear(60, 10)\n",
        ")\n",
        "\n",
        "\n"
      ],
      "metadata": {
        "id": "FslroPJJffrh"
      },
      "execution_count": 5,
      "outputs": []
    },
    {
      "cell_type": "code",
      "source": [
        "# He initialization of weights\n",
        "def weights_init(layer_in):\n",
        "  if isinstance(layer_in, nn.Linear):\n",
        "    nn.init.kaiming_uniform_(layer_in.weight)\n",
        "    layer_in.bias.data.fill_(0.0)"
      ],
      "metadata": {
        "id": "YgLaex1pfhqz"
      },
      "execution_count": 6,
      "outputs": []
    },
    {
      "cell_type": "code",
      "source": [
        "# choose cross entropy loss function (equation 5.24 in the loss notes)\n",
        "loss_function = nn.CrossEntropyLoss()\n",
        "# construct SGD optimizer and initialize learning rate and momentum\n",
        "optimizer = torch.optim.SGD(model.parameters(), lr = 0.05, momentum=0.9)\n",
        "# object that decreases learning rate by half every 20 epochs\n",
        "scheduler = StepLR(optimizer, step_size=20, gamma=0.5)\n",
        "# create 100 dummy data points and store in data loader class\n",
        "x_train = torch.tensor(train_data_x.transpose().astype('float32'))\n",
        "y_train = torch.tensor(train_data_y.astype('long')).long()\n",
        "x_val= torch.tensor(val_data_x.transpose().astype('float32'))\n",
        "y_val = torch.tensor(val_data_y.astype('long')).long()\n",
        "\n",
        "# load the data into a class that creates the batches\n",
        "data_loader = DataLoader(TensorDataset(x_train,y_train), batch_size=100, shuffle=True, worker_init_fn=np.random.seed(1))\n",
        "\n",
        "# Initialize model weights\n",
        "model.apply(weights_init)\n",
        "\n",
        "# loop over the dataset n_epoch times\n",
        "n_epoch = 100\n",
        "# store the loss and the % correct at each epoch\n",
        "losses_train = np.zeros((n_epoch))\n",
        "errors_train = np.zeros((n_epoch))\n",
        "losses_val = np.zeros((n_epoch))\n",
        "errors_val = np.zeros((n_epoch))\n",
        "\n",
        "for epoch in range(n_epoch):\n",
        "  # loop over batches\n",
        "  for i, data in enumerate(data_loader):\n",
        "    # retrieve inputs and labels for this batch\n",
        "    x_batch, y_batch = data\n",
        "    # zero the parameter gradients\n",
        "    optimizer.zero_grad()\n",
        "    # forward pass -- calculate model output\n",
        "    pred = model(x_batch[:,None,:])\n",
        "    # compute the loss\n",
        "    loss = loss_function(pred, y_batch)\n",
        "    # backward pass\n",
        "    loss.backward()\n",
        "    # SGD update\n",
        "    optimizer.step()\n",
        "\n",
        "  # Run whole dataset to get statistics -- normally wouldn't do this\n",
        "  pred_train = model(x_train[:,None,:])\n",
        "  pred_val = model(x_val[:,None,:])\n",
        "  _, predicted_train_class = torch.max(pred_train.data, 1)\n",
        "  _, predicted_val_class = torch.max(pred_val.data, 1)\n",
        "  errors_train[epoch] = 100 - 100 * (predicted_train_class == y_train).float().sum() / len(y_train)\n",
        "  errors_val[epoch]= 100 - 100 * (predicted_val_class == y_val).float().sum() / len(y_val)\n",
        "  losses_train[epoch] = loss_function(pred_train, y_train).item()\n",
        "  losses_val[epoch]= loss_function(pred_val, y_val).item()\n",
        "  print(f'Epoch {epoch:5d}, train loss {losses_train[epoch]:.6f}, train error {errors_train[epoch]:3.2f},  val loss {losses_val[epoch]:.6f}, percent error {errors_val[epoch]:3.2f}')\n",
        "\n",
        "  # tell scheduler to consider updating learning rate\n",
        "  scheduler.step()\n",
        "\n",
        "# Plot the results\n",
        "fig, ax = plt.subplots()\n",
        "ax.plot(errors_train,'r-',label='train')\n",
        "ax.plot(errors_val,'b-',label='validation')\n",
        "ax.set_ylim(0,100); ax.set_xlim(0,n_epoch)\n",
        "ax.set_xlabel('Epoch'); ax.set_ylabel('Error')\n",
        "ax.set_title('Part I: Validation Result %3.2f'%(errors_val[-1]))\n",
        "ax.legend()\n",
        "plt.show()"
      ],
      "metadata": {
        "id": "NYw8I_3mmX5c",
        "colab": {
          "base_uri": "https://localhost:8080/",
          "height": 1000
        },
        "outputId": "758c6288-fef8-4ba0-8a50-9abfde6bbb55"
      },
      "execution_count": 7,
      "outputs": [
        {
          "output_type": "stream",
          "name": "stdout",
          "text": [
            "Epoch     0, train loss 1.958442, train error 73.60,  val loss 1.968060, percent error 74.60\n",
            "Epoch     1, train loss 1.501432, train error 60.28,  val loss 1.507549, percent error 60.00\n",
            "Epoch     2, train loss 1.401807, train error 58.05,  val loss 1.419367, percent error 58.40\n",
            "Epoch     3, train loss 1.332716, train error 55.45,  val loss 1.347170, percent error 56.90\n",
            "Epoch     4, train loss 1.209176, train error 49.45,  val loss 1.229851, percent error 50.50\n",
            "Epoch     5, train loss 1.080487, train error 43.33,  val loss 1.107899, percent error 46.50\n",
            "Epoch     6, train loss 1.013989, train error 41.25,  val loss 1.066914, percent error 44.60\n",
            "Epoch     7, train loss 0.988504, train error 40.53,  val loss 1.033858, percent error 41.90\n",
            "Epoch     8, train loss 0.849595, train error 34.78,  val loss 0.909208, percent error 37.10\n",
            "Epoch     9, train loss 0.784333, train error 32.30,  val loss 0.835454, percent error 34.70\n",
            "Epoch    10, train loss 0.745095, train error 28.88,  val loss 0.818212, percent error 32.80\n",
            "Epoch    11, train loss 0.665616, train error 25.93,  val loss 0.744358, percent error 27.70\n",
            "Epoch    12, train loss 0.605292, train error 23.47,  val loss 0.702138, percent error 27.60\n",
            "Epoch    13, train loss 0.540835, train error 20.95,  val loss 0.634283, percent error 22.80\n",
            "Epoch    14, train loss 0.515929, train error 19.12,  val loss 0.653233, percent error 23.60\n",
            "Epoch    15, train loss 0.465852, train error 17.80,  val loss 0.591682, percent error 21.80\n",
            "Epoch    16, train loss 0.385083, train error 13.70,  val loss 0.526109, percent error 17.80\n",
            "Epoch    17, train loss 0.371968, train error 12.97,  val loss 0.525089, percent error 18.20\n",
            "Epoch    18, train loss 0.370648, train error 13.00,  val loss 0.571723, percent error 18.30\n",
            "Epoch    19, train loss 0.312899, train error 11.57,  val loss 0.516599, percent error 17.20\n",
            "Epoch    20, train loss 0.255556, train error 8.50,  val loss 0.442907, percent error 13.40\n",
            "Epoch    21, train loss 0.240513, train error 7.93,  val loss 0.433308, percent error 12.50\n",
            "Epoch    22, train loss 0.237605, train error 7.80,  val loss 0.450601, percent error 13.10\n",
            "Epoch    23, train loss 0.218412, train error 7.47,  val loss 0.432894, percent error 12.90\n",
            "Epoch    24, train loss 0.236205, train error 8.70,  val loss 0.440632, percent error 13.50\n",
            "Epoch    25, train loss 0.205048, train error 6.93,  val loss 0.456928, percent error 12.80\n",
            "Epoch    26, train loss 0.186761, train error 6.18,  val loss 0.414321, percent error 12.00\n",
            "Epoch    27, train loss 0.177728, train error 5.40,  val loss 0.427902, percent error 12.30\n",
            "Epoch    28, train loss 0.165015, train error 5.50,  val loss 0.434429, percent error 11.90\n",
            "Epoch    29, train loss 0.173633, train error 6.18,  val loss 0.446620, percent error 12.40\n",
            "Epoch    30, train loss 0.158434, train error 5.18,  val loss 0.427407, percent error 11.10\n",
            "Epoch    31, train loss 0.152818, train error 5.10,  val loss 0.399019, percent error 10.70\n",
            "Epoch    32, train loss 0.143487, train error 5.05,  val loss 0.430829, percent error 12.40\n",
            "Epoch    33, train loss 0.161754, train error 5.70,  val loss 0.450898, percent error 12.60\n",
            "Epoch    34, train loss 0.136207, train error 4.62,  val loss 0.411535, percent error 11.40\n",
            "Epoch    35, train loss 0.115239, train error 3.75,  val loss 0.405475, percent error 10.40\n",
            "Epoch    36, train loss 0.113588, train error 3.60,  val loss 0.416261, percent error 11.20\n",
            "Epoch    37, train loss 0.111202, train error 3.53,  val loss 0.451086, percent error 11.60\n",
            "Epoch    38, train loss 0.111900, train error 3.72,  val loss 0.444483, percent error 11.50\n",
            "Epoch    39, train loss 0.142939, train error 5.00,  val loss 0.463967, percent error 11.70\n",
            "Epoch    40, train loss 0.093025, train error 3.00,  val loss 0.437994, percent error 11.20\n",
            "Epoch    41, train loss 0.083413, train error 2.50,  val loss 0.433815, percent error 10.50\n",
            "Epoch    42, train loss 0.079111, train error 2.28,  val loss 0.419138, percent error 10.70\n",
            "Epoch    43, train loss 0.078154, train error 2.20,  val loss 0.436315, percent error 11.10\n",
            "Epoch    44, train loss 0.082397, train error 2.62,  val loss 0.442271, percent error 11.20\n",
            "Epoch    45, train loss 0.081851, train error 2.43,  val loss 0.455895, percent error 11.60\n",
            "Epoch    46, train loss 0.074550, train error 2.12,  val loss 0.440587, percent error 10.70\n",
            "Epoch    47, train loss 0.071053, train error 1.90,  val loss 0.449984, percent error 10.80\n",
            "Epoch    48, train loss 0.074365, train error 2.07,  val loss 0.436290, percent error 10.90\n",
            "Epoch    49, train loss 0.069445, train error 1.85,  val loss 0.448301, percent error 11.30\n",
            "Epoch    50, train loss 0.066527, train error 1.57,  val loss 0.456167, percent error 10.90\n",
            "Epoch    51, train loss 0.061782, train error 1.30,  val loss 0.443447, percent error 11.20\n",
            "Epoch    52, train loss 0.068017, train error 1.75,  val loss 0.451018, percent error 11.20\n",
            "Epoch    53, train loss 0.059395, train error 1.30,  val loss 0.459423, percent error 11.50\n",
            "Epoch    54, train loss 0.059852, train error 1.28,  val loss 0.465880, percent error 11.40\n",
            "Epoch    55, train loss 0.057384, train error 1.28,  val loss 0.465766, percent error 11.00\n",
            "Epoch    56, train loss 0.057251, train error 1.20,  val loss 0.454777, percent error 11.40\n",
            "Epoch    57, train loss 0.059352, train error 1.38,  val loss 0.450971, percent error 10.70\n",
            "Epoch    58, train loss 0.060837, train error 1.62,  val loss 0.460453, percent error 10.90\n",
            "Epoch    59, train loss 0.054182, train error 1.12,  val loss 0.466405, percent error 11.40\n",
            "Epoch    60, train loss 0.049534, train error 0.93,  val loss 0.464324, percent error 10.70\n",
            "Epoch    61, train loss 0.047729, train error 0.80,  val loss 0.466267, percent error 11.10\n",
            "Epoch    62, train loss 0.046918, train error 0.82,  val loss 0.468531, percent error 10.90\n",
            "Epoch    63, train loss 0.047055, train error 0.82,  val loss 0.471853, percent error 11.00\n",
            "Epoch    64, train loss 0.046688, train error 0.82,  val loss 0.464001, percent error 11.20\n",
            "Epoch    65, train loss 0.047492, train error 0.93,  val loss 0.476869, percent error 11.40\n",
            "Epoch    66, train loss 0.046239, train error 0.80,  val loss 0.473441, percent error 11.20\n",
            "Epoch    67, train loss 0.045992, train error 0.85,  val loss 0.481223, percent error 11.60\n",
            "Epoch    68, train loss 0.045217, train error 0.70,  val loss 0.475941, percent error 11.20\n",
            "Epoch    69, train loss 0.043600, train error 0.72,  val loss 0.478167, percent error 11.20\n",
            "Epoch    70, train loss 0.045026, train error 0.80,  val loss 0.472878, percent error 11.30\n",
            "Epoch    71, train loss 0.042342, train error 0.62,  val loss 0.479118, percent error 11.40\n",
            "Epoch    72, train loss 0.043141, train error 0.78,  val loss 0.476863, percent error 10.80\n",
            "Epoch    73, train loss 0.041366, train error 0.60,  val loss 0.484000, percent error 11.50\n",
            "Epoch    74, train loss 0.040922, train error 0.57,  val loss 0.477813, percent error 11.10\n",
            "Epoch    75, train loss 0.040582, train error 0.50,  val loss 0.482910, percent error 11.40\n",
            "Epoch    76, train loss 0.039620, train error 0.53,  val loss 0.483693, percent error 11.20\n",
            "Epoch    77, train loss 0.039545, train error 0.53,  val loss 0.484406, percent error 11.30\n",
            "Epoch    78, train loss 0.040975, train error 0.65,  val loss 0.490720, percent error 11.10\n",
            "Epoch    79, train loss 0.039198, train error 0.65,  val loss 0.487263, percent error 11.10\n",
            "Epoch    80, train loss 0.037910, train error 0.50,  val loss 0.486932, percent error 11.20\n",
            "Epoch    81, train loss 0.038927, train error 0.55,  val loss 0.489094, percent error 11.50\n",
            "Epoch    82, train loss 0.037779, train error 0.53,  val loss 0.484640, percent error 11.30\n",
            "Epoch    83, train loss 0.037610, train error 0.50,  val loss 0.488224, percent error 11.00\n",
            "Epoch    84, train loss 0.037682, train error 0.53,  val loss 0.494050, percent error 11.30\n",
            "Epoch    85, train loss 0.037010, train error 0.50,  val loss 0.489973, percent error 11.40\n",
            "Epoch    86, train loss 0.036809, train error 0.47,  val loss 0.491552, percent error 11.30\n",
            "Epoch    87, train loss 0.036647, train error 0.53,  val loss 0.493119, percent error 11.30\n",
            "Epoch    88, train loss 0.036434, train error 0.53,  val loss 0.493226, percent error 11.50\n",
            "Epoch    89, train loss 0.036518, train error 0.47,  val loss 0.494407, percent error 11.20\n",
            "Epoch    90, train loss 0.035667, train error 0.47,  val loss 0.494479, percent error 11.40\n",
            "Epoch    91, train loss 0.035446, train error 0.47,  val loss 0.494944, percent error 11.40\n",
            "Epoch    92, train loss 0.035560, train error 0.47,  val loss 0.497166, percent error 11.30\n",
            "Epoch    93, train loss 0.035263, train error 0.45,  val loss 0.497968, percent error 11.30\n",
            "Epoch    94, train loss 0.035010, train error 0.50,  val loss 0.499136, percent error 11.20\n",
            "Epoch    95, train loss 0.034665, train error 0.45,  val loss 0.497550, percent error 11.20\n",
            "Epoch    96, train loss 0.034462, train error 0.45,  val loss 0.498157, percent error 11.40\n",
            "Epoch    97, train loss 0.034293, train error 0.45,  val loss 0.501112, percent error 11.30\n",
            "Epoch    98, train loss 0.034464, train error 0.43,  val loss 0.501469, percent error 11.60\n",
            "Epoch    99, train loss 0.034129, train error 0.40,  val loss 0.499854, percent error 11.30\n"
          ]
        },
        {
          "output_type": "display_data",
          "data": {
            "text/plain": [
              "<Figure size 640x480 with 1 Axes>"
            ],
            "image/png": "[encoded data removed]"
          },
          "metadata": {}
        }
      ]
    }
  ]
}